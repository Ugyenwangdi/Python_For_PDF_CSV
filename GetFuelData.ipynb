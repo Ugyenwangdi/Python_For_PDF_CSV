{
 "cells": [
  {
   "cell_type": "code",
   "execution_count": null,
   "id": "7b63364f",
   "metadata": {},
   "outputs": [],
   "source": [
    "# # !pip install --upgrade lxml\n",
    "!pip install autoscraper\n",
    "from autoscraper import AutoScraper\n",
    "\n",
    "url = 'https://github.com/krishnaik06?tab=repositories'\n",
    "\n",
    "# We can add one or multiple candidates here.\n",
    "# You can also put urls here to retrieve urls.\n",
    "wanted_list = [\"85\",\"Car-Price-Prediction\",\"8.4k\"]\n",
    "\n",
    "scraper = AutoScraper()\n",
    "result = scraper.build(url, wanted_list)\n",
    "print(result)"
   ]
  },
  {
   "cell_type": "code",
   "execution_count": null,
   "id": "f3488cb4",
   "metadata": {},
   "outputs": [],
   "source": [
    "\n",
    "import pandas as pd\n",
    "\n",
    "scraper = pd.read_html(\"http://mosic.moea.gov.bt/mosic/DefaultPricingCommunication.do\")\n",
    "\n",
    "scraper"
   ]
  },
  {
   "cell_type": "code",
   "execution_count": null,
   "id": "6e93e0bb",
   "metadata": {},
   "outputs": [],
   "source": [
    "import requests\n",
    "from bs4 import BeautifulSoup\n",
    "\n",
    "url = \"http://mosic.moea.gov.bt/mosic/DefaultPricingCommunication.do\"\n",
    "response = requests.get(url)\n",
    "print(response.url)\n",
    "\n",
    "moviesSoup = BeautifulSoup(response.text)\n",
    "\n",
    "data_dictionary = {}\n",
    "\n",
    "for movie in moviesSoup.findAll('tbody'):\n",
    "    title = movie.findAll('tr')\n",
    "    print(title)\n"
   ]
  },
  {
   "cell_type": "code",
   "execution_count": null,
   "id": "6a5bee9e",
   "metadata": {},
   "outputs": [],
   "source": []
  }
 ],
 "metadata": {
  "kernelspec": {
   "display_name": "Python 3 (ipykernel)",
   "language": "python",
   "name": "python3"
  },
  "language_info": {
   "codemirror_mode": {
    "name": "ipython",
    "version": 3
   },
   "file_extension": ".py",
   "mimetype": "text/x-python",
   "name": "python",
   "nbconvert_exporter": "python",
   "pygments_lexer": "ipython3",
   "version": "3.9.4"
  }
 },
 "nbformat": 4,
 "nbformat_minor": 5
}
